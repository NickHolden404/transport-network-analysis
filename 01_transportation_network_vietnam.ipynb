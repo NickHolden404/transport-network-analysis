{
 "cells": [
  {
   "cell_type": "markdown",
   "id": "1ef6ef3e-9312-4fbc-a8b7-3c392c4dafc8",
   "metadata": {},
   "source": [
    "# Transportation Network of Vietnam\n",
    "In this notebook, we construct a road network graph of Vietnam from the dataset.\n"
   ]
  },
  {
   "cell_type": "code",
   "execution_count": 1,
   "id": "2a259142-1a5d-40d9-8da8-91f9b7d4c0ef",
   "metadata": {},
   "outputs": [],
   "source": [
    "# Imports\n",
    "import osmnx as ox\n",
    "import networkx as nx\n",
    "import pickle"
   ]
  },
  {
   "cell_type": "code",
   "execution_count": 2,
   "id": "6e75c1ad-e6ee-4183-9815-fbce542e376f",
   "metadata": {},
   "outputs": [
    {
     "name": "stdout",
     "output_type": "stream",
     "text": [
      "Directed road graph: 162634 nodes, 399630 edges\n"
     ]
    }
   ],
   "source": [
    "# Use Hanoi for testing\n",
    "place_name = \"Hanoi, Vietnam\"\n",
    "G_main = ox.graph_from_place(place_name, network_type=\"drive\", simplify=True)\n",
    "\n",
    "print(f\"Directed road graph: {len(G_main.nodes())} nodes, {len(G_main.edges())} edges\")"
   ]
  },
  {
   "cell_type": "code",
   "execution_count": 3,
   "id": "8f28bbc7-898d-4e61-8345-031302adffde",
   "metadata": {},
   "outputs": [],
   "source": [
    "# Save graph for later use\n",
    "with open(\"road_graph.pkl\", \"wb\") as f:\n",
    "    pickle.dump(G_main, f)"
   ]
  },
  {
   "cell_type": "code",
   "execution_count": null,
   "id": "ae7cdcb4-d5ab-4a1d-93cb-3f702635edb7",
   "metadata": {},
   "outputs": [],
   "source": []
  }
 ],
 "metadata": {
  "kernelspec": {
   "display_name": "Python 3 (ipykernel)",
   "language": "python",
   "name": "python3"
  },
  "language_info": {
   "codemirror_mode": {
    "name": "ipython",
    "version": 3
   },
   "file_extension": ".py",
   "mimetype": "text/x-python",
   "name": "python",
   "nbconvert_exporter": "python",
   "pygments_lexer": "ipython3",
   "version": "3.10.11"
  }
 },
 "nbformat": 4,
 "nbformat_minor": 5
}
