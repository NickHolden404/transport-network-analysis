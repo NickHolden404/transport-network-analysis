{
 "cells": [
  {
   "cell_type": "code",
   "execution_count": 1,
   "id": "e04b1975-df4b-4744-ba81-24267da8e14d",
   "metadata": {},
   "outputs": [],
   "source": [
    "# Imports\n",
    "import pickle\n",
    "import networkx as nx\n",
    "import pandas as pd\n",
    "import os\n",
    "from tqdm import tqdm\n",
    "from networkx.algorithms import approximation as approx\n",
    "\n",
    "os.makedirs(\"output\", exist_ok=True)"
   ]
  },
  {
   "cell_type": "code",
   "execution_count": 2,
   "id": "ac74d34c-3190-4f30-b24c-21e64aa540bc",
   "metadata": {},
   "outputs": [],
   "source": [
    "# Load graph\n",
    "with open(\"road_graph.pkl\", \"rb\") as f:\n",
    "    G_main = pickle.load(f)"
   ]
  },
  {
   "cell_type": "code",
   "execution_count": 3,
   "id": "62226428-78eb-48cf-b557-44c88893e8a3",
   "metadata": {},
   "outputs": [
    {
     "name": "stdout",
     "output_type": "stream",
     "text": [
      "Largest WCC: 162634 nodes, 399630 edges\n",
      "\n"
     ]
    }
   ],
   "source": [
    "# --- Largest weakly connected component ---\n",
    "largest_cc = max(nx.weakly_connected_components(G_main), key=len)\n",
    "G_largest = G_main.subgraph(largest_cc).copy()\n",
    "print(f\"Largest WCC: {len(G_largest.nodes())} nodes, {len(G_largest.edges())} edges\\n\")"
   ]
  },
  {
   "cell_type": "code",
   "execution_count": 4,
   "id": "0dccb20e-6ed3-40f7-913f-64d56711b9a2",
   "metadata": {},
   "outputs": [
    {
     "name": "stdout",
     "output_type": "stream",
     "text": [
      "Computing fast centralities: in-degree, out-degree, PageRank...\n",
      "✅ Fast centralities saved.\n",
      "\n"
     ]
    }
   ],
   "source": [
    "# --- Fast centralities ---\n",
    "print(\"Computing fast centralities: in-degree, out-degree, PageRank...\")\n",
    "in_deg = nx.in_degree_centrality(G_largest)\n",
    "out_deg = nx.out_degree_centrality(G_largest)\n",
    "pagerank = nx.pagerank(G_largest, alpha=0.85)\n",
    "\n",
    "pd.DataFrame(in_deg.items(), columns=[\"node\", \"in_degree\"]).to_csv(\"output/in_degree.csv\", index=False)\n",
    "pd.DataFrame(out_deg.items(), columns=[\"node\", \"out_degree\"]).to_csv(\"output/out_degree.csv\", index=False)\n",
    "pd.DataFrame(pagerank.items(), columns=[\"node\", \"pagerank\"]).to_csv(\"output/pagerank.csv\", index=False)\n",
    "print(\"✅ Fast centralities saved.\\n\")"
   ]
  },
  {
   "cell_type": "code",
   "execution_count": 5,
   "id": "ccff19f0-daae-4502-8b37-aa9f2bcd6037",
   "metadata": {},
   "outputs": [
    {
     "name": "stdout",
     "output_type": "stream",
     "text": [
      "Computing slow centralities: betweenness (approx), HITS...\n",
      "Calculating betweenness centrality (approx, k=100)...\n",
      "✅ Betweenness centrality saved.\n",
      "\n",
      "Calculating HITS (hubs & authorities, max_iter=100)...\n",
      "✅ HITS saved.\n",
      "\n"
     ]
    }
   ],
   "source": [
    "# --- Slow centralities with progress bars (optimized) ---\n",
    "print(\"Computing slow centralities: betweenness (approx), HITS...\")\n",
    "\n",
    "# Approximate betweenness centrality (sample k nodes)\n",
    "print(\"Calculating betweenness centrality (approx, k=100)...\")\n",
    "bet = nx.betweenness_centrality(G_largest, k=100, seed=42)\n",
    "pd.DataFrame(bet.items(), columns=[\"node\", \"betweenness\"]).to_csv(\"output/betweenness_centrality.csv\", index=False)\n",
    "print(\"✅ Betweenness centrality saved.\\n\")\n",
    "\n",
    "# HITS\n",
    "print(\"Calculating HITS (hubs & authorities, max_iter=100)...\")\n",
    "hubs, authorities = nx.hits(G_largest, max_iter=100, tol=1e-4)\n",
    "pd.DataFrame(hubs.items(), columns=[\"node\", \"hub_score\"]).to_csv(\"output/hubs.csv\", index=False)\n",
    "pd.DataFrame(authorities.items(), columns=[\"node\", \"authority_score\"]).to_csv(\"output/authorities.csv\", index=False)\n",
    "print(\"✅ HITS saved.\\n\")"
   ]
  },
  {
   "cell_type": "code",
   "execution_count": 6,
   "id": "ae638c37-63d4-4bb5-9298-762b83d0aa60",
   "metadata": {},
   "outputs": [
    {
     "name": "stdout",
     "output_type": "stream",
     "text": [
      "✅ Combined metrics saved to /output/combined_metrics.csv\n",
      "\n",
      "Top 10 by in_degree:\n",
      "             node  in_degree\n",
      "12675  4813567397   0.000037\n",
      "5687   1905643476   0.000037\n",
      "86061  8609853337   0.000037\n",
      "56220  7488855891   0.000037\n",
      "79424  8341138742   0.000037\n",
      "54783  7279195366   0.000031\n",
      "38445  5719116676   0.000031\n",
      "54761  7279156158   0.000031\n",
      "64426  8332788739   0.000031\n",
      "38660  5719237807   0.000031 \n",
      "\n",
      "Top 10 by out_degree:\n",
      "              node  out_degree\n",
      "12675   4813567397    0.000037\n",
      "56220   7488855891    0.000037\n",
      "86061   8609853337    0.000037\n",
      "5687    1905643476    0.000037\n",
      "79424   8341138742    0.000037\n",
      "8513    2706474833    0.000031\n",
      "86068   8609853353    0.000031\n",
      "123737  8831704986    0.000031\n",
      "20909   5678424303    0.000031\n",
      "65502   8332942736    0.000031 \n",
      "\n",
      "Top 10 by pagerank:\n",
      "               node  pagerank\n",
      "53993    7226570628  0.000025\n",
      "2986      445252475  0.000018\n",
      "139077  10183503218  0.000017\n",
      "157457  12116337047  0.000017\n",
      "36716    5716511033  0.000016\n",
      "67307    8333205997  0.000016\n",
      "90439    8677797093  0.000016\n",
      "64318    8332773638  0.000016\n",
      "93127    8728819691  0.000016\n",
      "59996    8246410502  0.000016 \n",
      "\n",
      "Top 10 by betweenness:\n",
      "               node  betweenness\n",
      "139527  10308025429     0.285480\n",
      "139526  10308015689     0.284101\n",
      "779       282895148     0.210321\n",
      "139408  10246832783     0.210314\n",
      "161640  12623288819     0.205905\n",
      "10516    4009681630     0.205899\n",
      "520       106070559     0.186735\n",
      "161624  12606538104     0.186350\n",
      "34732    5710222986     0.186344\n",
      "3424     1221938553     0.184437 \n",
      "\n",
      "Top 10 by hub_score:\n",
      "             node  hub_score\n",
      "11869  4466994312   0.084562\n",
      "9692   3435239188   0.083878\n",
      "9698   3435245119   0.083878\n",
      "11868  4466994311   0.082495\n",
      "9693   3435245097   0.082495\n",
      "9691   3435239187   0.079119\n",
      "11867  4466994306   0.079119\n",
      "9699   3435245121   0.077052\n",
      "9695   3435245112   0.077052\n",
      "9694   3435245106   0.073677 \n",
      "\n",
      "Top 10 by authority_score:\n",
      "             node  authority_score\n",
      "11869  4466994312         0.084562\n",
      "9698   3435245119         0.083878\n",
      "9692   3435239188         0.083878\n",
      "11868  4466994311         0.082495\n",
      "9693   3435245097         0.082495\n",
      "11867  4466994306         0.079119\n",
      "9691   3435239187         0.079119\n",
      "9699   3435245121         0.077052\n",
      "9695   3435245112         0.077052\n",
      "9694   3435245106         0.073677 \n",
      "\n"
     ]
    }
   ],
   "source": [
    "# --- Merge existing centralities ---\n",
    "centrality_files = {\n",
    "    \"in_degree\": \"output/in_degree.csv\",\n",
    "    \"out_degree\": \"output/out_degree.csv\",\n",
    "    \"pagerank\": \"output/pagerank.csv\",\n",
    "    \"betweenness\": \"output/betweenness_centrality.csv\",\n",
    "    \"hub_score\": \"output/hubs.csv\",\n",
    "    \"authority_score\": \"output/authorities.csv\"\n",
    "}\n",
    "\n",
    "df = pd.DataFrame()\n",
    "for name, path in centrality_files.items():\n",
    "    if os.path.exists(path):\n",
    "        tmp = pd.read_csv(path)\n",
    "        tmp = tmp.rename(columns={tmp.columns[1]: name})\n",
    "        if df.empty:\n",
    "            df = tmp\n",
    "        else:\n",
    "            df = df.merge(tmp, on=\"node\", how=\"outer\")\n",
    "\n",
    "df.to_csv(\"output/combined_metrics.csv\", index=False)\n",
    "print(\"✅ Combined metrics saved to /output/combined_metrics.csv\\n\")\n",
    "\n",
    "# Top-10 previews\n",
    "for col in [\"in_degree\", \"out_degree\", \"pagerank\", \"betweenness\", \"hub_score\", \"authority_score\"]:\n",
    "    if col in df.columns:\n",
    "        print(f\"Top 10 by {col}:\")\n",
    "        print(df.sort_values(col, ascending=False).head(10)[[\"node\", col]], \"\\n\")"
   ]
  },
  {
   "cell_type": "code",
   "execution_count": null,
   "id": "303f7845-448c-4263-a731-85844d0a6bea",
   "metadata": {},
   "outputs": [],
   "source": []
  }
 ],
 "metadata": {
  "kernelspec": {
   "display_name": "Python 3 (ipykernel)",
   "language": "python",
   "name": "python3"
  },
  "language_info": {
   "codemirror_mode": {
    "name": "ipython",
    "version": 3
   },
   "file_extension": ".py",
   "mimetype": "text/x-python",
   "name": "python",
   "nbconvert_exporter": "python",
   "pygments_lexer": "ipython3",
   "version": "3.10.11"
  }
 },
 "nbformat": 4,
 "nbformat_minor": 5
}
