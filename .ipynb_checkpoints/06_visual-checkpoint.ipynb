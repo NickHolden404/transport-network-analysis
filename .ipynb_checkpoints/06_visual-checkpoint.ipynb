{
 "cells": [
  {
   "cell_type": "code",
   "execution_count": 1,
   "id": "e7584fb3-798a-4644-bc8b-f2b5e7ea6780",
   "metadata": {},
   "outputs": [],
   "source": [
    "# Imports\n",
    "import pandas as pd\n",
    "import matplotlib.pyplot as plt\n",
    "import seaborn as sns\n",
    "import os"
   ]
  },
  {
   "cell_type": "code",
   "execution_count": 2,
   "id": "bf5db304-807e-498b-9983-7c72e9a5263a",
   "metadata": {},
   "outputs": [],
   "source": [
    "# Load combined centralities\n",
    "df = pd.read_csv(\"output/combined_metrics.csv\")"
   ]
  },
  {
   "cell_type": "code",
   "execution_count": 3,
   "id": "c373248e-c464-4358-a84a-758e07e2ea8d",
   "metadata": {},
   "outputs": [
    {
     "name": "stdout",
     "output_type": "stream",
     "text": [
      "✅ Histograms saved to /output/\n"
     ]
    }
   ],
   "source": [
    "# --- Histograms ---\n",
    "for col in df.columns[1:]:\n",
    "    plt.figure(figsize=(6,4))\n",
    "    sns.histplot(df[col].dropna(), bins=50, log_scale=(False, True))\n",
    "    plt.title(f\"Distribution of {col}\")\n",
    "    plt.xlabel(col)\n",
    "    plt.ylabel(\"Frequency (log scale)\")\n",
    "    plt.tight_layout()\n",
    "    plt.savefig(f\"output/hist_{col}.png\")\n",
    "    plt.close()\n",
    "\n",
    "print(\"✅ Histograms saved to /output/\")"
   ]
  },
  {
   "cell_type": "code",
   "execution_count": 4,
   "id": "bf46765c-dc90-4c1b-8844-328162545296",
   "metadata": {},
   "outputs": [
    {
     "name": "stdout",
     "output_type": "stream",
     "text": [
      "✅ Scatterplots saved to /output/\n"
     ]
    }
   ],
   "source": [
    "# --- Scatterplots (pairwise comparisons) ---\n",
    "pairs = [\n",
    "    (\"in_degree\", \"pagerank\"),\n",
    "    (\"out_degree\", \"pagerank\"),\n",
    "    (\"betweenness\", \"hub_score\"),\n",
    "    (\"betweenness\", \"authority_score\"),\n",
    "]\n",
    "\n",
    "for x, y in pairs:\n",
    "    if x in df.columns and y in df.columns:\n",
    "        plt.figure(figsize=(6,6))\n",
    "        sns.scatterplot(x=df[x], y=df[y], alpha=0.6)\n",
    "        plt.title(f\"{x} vs. {y}\")\n",
    "        plt.xlabel(x)\n",
    "        plt.ylabel(y)\n",
    "        plt.tight_layout()\n",
    "        plt.savefig(f\"output/scatter_{x}_vs_{y}.png\")\n",
    "        plt.close()\n",
    "\n",
    "print(\"✅ Scatterplots saved to /output/\")"
   ]
  },
  {
   "cell_type": "code",
   "execution_count": 5,
   "id": "8aefa61b-63f5-449e-92fb-ae8c853e4c7f",
   "metadata": {},
   "outputs": [
    {
     "name": "stdout",
     "output_type": "stream",
     "text": [
      "✅ Top-10 bar charts saved to /output/\n"
     ]
    }
   ],
   "source": [
    "# --- Top-10 bar charts ---\n",
    "for col in df.columns[1:]:\n",
    "    top10 = df.sort_values(col, ascending=False).head(10)\n",
    "    plt.figure(figsize=(8,5))\n",
    "    sns.barplot(x=col, y=\"node\", data=top10, palette=\"viridis\", hue=col, dodge=False, legend=False)\n",
    "    plt.title(f\"Top 10 nodes by {col}\")\n",
    "    plt.tight_layout()\n",
    "    plt.savefig(f\"output/top10_{col}.png\")\n",
    "    plt.close()\n",
    "\n",
    "print(\"✅ Top-10 bar charts saved to /output/\")"
   ]
  },
  {
   "cell_type": "code",
   "execution_count": 6,
   "id": "6f03208c-dbf5-4c15-902d-0fe889aa4bfe",
   "metadata": {},
   "outputs": [
    {
     "name": "stdout",
     "output_type": "stream",
     "text": [
      "✅ Correlation heatmap saved to /output/\n"
     ]
    }
   ],
   "source": [
    "# --- 4. Correlation heatmap ---\n",
    "plt.figure(figsize=(8,6))\n",
    "corr = df.drop(columns=[\"node\"]).corr()\n",
    "sns.heatmap(corr, annot=True, cmap=\"coolwarm\", fmt=\".2f\")\n",
    "plt.title(\"Correlation Heatmap of Centrality Metrics\")\n",
    "plt.tight_layout()\n",
    "plt.savefig(\"output/correlation_heatmap.png\")\n",
    "plt.close()\n",
    "\n",
    "print(\"✅ Correlation heatmap saved to /output/\")"
   ]
  },
  {
   "cell_type": "code",
   "execution_count": 7,
   "id": "c64e119a-97e8-4b9a-9cae-aa732c3e2428",
   "metadata": {},
   "outputs": [
    {
     "name": "stdout",
     "output_type": "stream",
     "text": [
      "\n",
      "🔹 Top 5 by in_degree:\n",
      "             node  in_degree\n",
      "12675  4813567397   0.000037\n",
      "5687   1905643476   0.000037\n",
      "86061  8609853337   0.000037\n",
      "56220  7488855891   0.000037\n",
      "79424  8341138742   0.000037\n",
      "\n",
      "🔹 Top 5 by out_degree:\n",
      "             node  out_degree\n",
      "12675  4813567397    0.000037\n",
      "56220  7488855891    0.000037\n",
      "86061  8609853337    0.000037\n",
      "5687   1905643476    0.000037\n",
      "79424  8341138742    0.000037\n",
      "\n",
      "🔹 Top 5 by pagerank:\n",
      "               node  pagerank\n",
      "53993    7226570628  0.000025\n",
      "2986      445252475  0.000018\n",
      "139077  10183503218  0.000017\n",
      "157457  12116337047  0.000017\n",
      "36716    5716511033  0.000016\n",
      "\n",
      "🔹 Top 5 by betweenness:\n",
      "               node  betweenness\n",
      "139527  10308025429     0.285480\n",
      "139526  10308015689     0.284101\n",
      "779       282895148     0.210321\n",
      "139408  10246832783     0.210314\n",
      "161640  12623288819     0.205905\n",
      "\n",
      "🔹 Top 5 by hub_score:\n",
      "             node  hub_score\n",
      "11869  4466994312   0.084562\n",
      "9692   3435239188   0.083878\n",
      "9698   3435245119   0.083878\n",
      "11868  4466994311   0.082495\n",
      "9693   3435245097   0.082495\n",
      "\n",
      "🔹 Top 5 by authority_score:\n",
      "             node  authority_score\n",
      "11869  4466994312         0.084562\n",
      "9698   3435245119         0.083878\n",
      "9692   3435239188         0.083878\n",
      "11868  4466994311         0.082495\n",
      "9693   3435245097         0.082495\n"
     ]
    }
   ],
   "source": [
    "# Load combined centrality metrics\n",
    "df = pd.read_csv(\"output/combined_metrics.csv\")\n",
    "\n",
    "# Top nodes by each metric\n",
    "for col in [\"in_degree\", \"out_degree\", \"pagerank\", \"betweenness\", \"hub_score\", \"authority_score\"]:\n",
    "    if col in df.columns:\n",
    "        print(f\"\\n🔹 Top 5 by {col}:\")\n",
    "        print(df.sort_values(col, ascending=False).head(5)[[\"node\", col]])"
   ]
  },
  {
   "cell_type": "code",
   "execution_count": null,
   "id": "51dda18b-17d2-46c8-9a8a-21ec84483f34",
   "metadata": {},
   "outputs": [],
   "source": []
  }
 ],
 "metadata": {
  "kernelspec": {
   "display_name": "Python 3 (ipykernel)",
   "language": "python",
   "name": "python3"
  },
  "language_info": {
   "codemirror_mode": {
    "name": "ipython",
    "version": 3
   },
   "file_extension": ".py",
   "mimetype": "text/x-python",
   "name": "python",
   "nbconvert_exporter": "python",
   "pygments_lexer": "ipython3",
   "version": "3.10.11"
  }
 },
 "nbformat": 4,
 "nbformat_minor": 5
}
