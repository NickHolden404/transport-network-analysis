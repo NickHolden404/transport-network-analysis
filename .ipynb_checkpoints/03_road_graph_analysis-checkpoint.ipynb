{
 "cells": [
  {
   "cell_type": "markdown",
   "id": "99ca2cc6-d631-4e96-903c-271bff264919",
   "metadata": {},
   "source": [
    "# Road Graph Analysis\n",
    "This notebook compares shortest path algorithms (Dijkstra vs Bellman-Ford) on the road network graph.\n"
   ]
  },
  {
   "cell_type": "code",
   "execution_count": 1,
   "id": "c00c2c9f-946f-4ad2-81a2-bdcd157f8fe5",
   "metadata": {},
   "outputs": [],
   "source": [
    "import pandas as pd\n",
    "import networkx as nx\n",
    "import os\n",
    "import pickle\n",
    "\n",
    "# Ensure output folder exists\n",
    "os.makedirs(\"output\", exist_ok=True)"
   ]
  },
  {
   "cell_type": "code",
   "execution_count": 2,
   "id": "1bab1cfa-206d-4c10-890d-146cf3d2c196",
   "metadata": {},
   "outputs": [
    {
     "name": "stdout",
     "output_type": "stream",
     "text": [
      "Largest WCC: 162634 nodes, 399630 edges\n"
     ]
    }
   ],
   "source": [
    "# --- Load the graph ---\n",
    "with open(\"road_graph.pkl\", \"rb\") as f:\n",
    "    G_main = pickle.load(f)\n",
    "\n",
    "# Get the largest weakly connected component\n",
    "largest_cc = max(nx.weakly_connected_components(G_main), key=len)\n",
    "G_largest = G_main.subgraph(largest_cc).copy()\n",
    "print(f\"Largest WCC: {len(G_largest.nodes())} nodes, {len(G_largest.edges())} edges\")\n"
   ]
  },
  {
   "cell_type": "code",
   "execution_count": 3,
   "id": "cb7e6f82-eb6d-4d25-bf8d-332c1aa9be95",
   "metadata": {},
   "outputs": [],
   "source": [
    "# ---- Centrality calculations ----\n",
    "# In-degree & Out-degree\n",
    "in_deg = nx.in_degree_centrality(G_largest)\n",
    "out_deg = nx.out_degree_centrality(G_largest)\n",
    "\n",
    "# PageRank\n",
    "pagerank = nx.pagerank(G_largest, alpha=0.85)"
   ]
  },
  {
   "cell_type": "code",
   "execution_count": 4,
   "id": "4e4e1f92-824d-401f-9d49-f34d02f1cc77",
   "metadata": {},
   "outputs": [],
   "source": [
    "# ---- Save full results ----\n",
    "pd.DataFrame(in_deg.items(), columns=[\"node\", \"in_degree\"]).to_csv(\"output/in_degree.csv\", index=False)\n",
    "pd.DataFrame(out_deg.items(), columns=[\"node\", \"out_degree\"]).to_csv(\"output/out_degree.csv\", index=False)\n",
    "pd.DataFrame(pagerank.items(), columns=[\"node\", \"pagerank\"]).to_csv(\"output/pagerank.csv\", index=False)"
   ]
  },
  {
   "cell_type": "code",
   "execution_count": 5,
   "id": "877a1adf-3159-4054-a0e0-a4ddf78c1046",
   "metadata": {},
   "outputs": [],
   "source": [
    "# ---- Extract top-10 ----\n",
    "top_in = sorted(in_deg.items(), key=lambda x: x[1], reverse=True)[:10]\n",
    "top_out = sorted(out_deg.items(), key=lambda x: x[1], reverse=True)[:10]\n",
    "top_pr = sorted(pagerank.items(), key=lambda x: x[1], reverse=True)[:10]\n",
    "\n",
    "# Save top-10 to CSV\n",
    "pd.DataFrame(top_in, columns=[\"node\", \"in_degree\"]).to_csv(\"output/top10_in_degree.csv\", index=False)\n",
    "pd.DataFrame(top_out, columns=[\"node\", \"out_degree\"]).to_csv(\"output/top10_out_degree.csv\", index=False)\n",
    "pd.DataFrame(top_pr, columns=[\"node\", \"pagerank\"]).to_csv(\"output/top10_pagerank.csv\", index=False)\n"
   ]
  },
  {
   "cell_type": "code",
   "execution_count": 6,
   "id": "5dc9f413-8e3e-47dc-9bdb-397dc6d05c48",
   "metadata": {},
   "outputs": [
    {
     "name": "stdout",
     "output_type": "stream",
     "text": [
      "Top 10 by In-Degree Centrality (most cited):\n",
      "7488855891 4e-05\n",
      "8341138742 4e-05\n",
      "1905643476 4e-05\n",
      "4813567397 4e-05\n",
      "8609853337 4e-05\n",
      "2580588260 3e-05\n",
      "4335433035 3e-05\n",
      "5678424303 3e-05\n",
      "5707352559 3e-05\n",
      "7488944466 3e-05\n",
      "\n",
      "Top 10 by Out-Degree Centrality (most citing):\n",
      "7488855891 4e-05\n",
      "8341138742 4e-05\n",
      "1905643476 4e-05\n",
      "4813567397 4e-05\n",
      "8609853337 4e-05\n",
      "2580588260 3e-05\n",
      "4335433035 3e-05\n",
      "5678424303 3e-05\n",
      "5707352559 3e-05\n",
      "7488944466 3e-05\n",
      "\n",
      "Top 10 by PageRank (most influential overall):\n",
      "7226570628 2e-05\n",
      "445252475 2e-05\n",
      "10183503218 2e-05\n",
      "12116337047 2e-05\n",
      "8332773638 2e-05\n",
      "8677797093 2e-05\n",
      "5716511033 2e-05\n",
      "8333205997 2e-05\n",
      "8246410502 2e-05\n",
      "8728819691 2e-05\n",
      "\n",
      "✅ All centrality results saved in /output/\n"
     ]
    }
   ],
   "source": [
    "# ---- Print results ----\n",
    "print(\"Top 10 by In-Degree Centrality (most cited):\")\n",
    "for node, score in top_in:\n",
    "    print(node, round(score, 5))\n",
    "\n",
    "print(\"\\nTop 10 by Out-Degree Centrality (most citing):\")\n",
    "for node, score in top_out:\n",
    "    print(node, round(score, 5))\n",
    "\n",
    "print(\"\\nTop 10 by PageRank (most influential overall):\")\n",
    "for node, score in top_pr:\n",
    "    print(node, round(score, 5))\n",
    "\n",
    "print(\"\\n✅ All centrality results saved in /output/\")"
   ]
  },
  {
   "cell_type": "code",
   "execution_count": null,
   "id": "f53de840-a6a4-4c65-b5db-1637821e7287",
   "metadata": {},
   "outputs": [],
   "source": []
  }
 ],
 "metadata": {
  "kernelspec": {
   "display_name": "Python 3 (ipykernel)",
   "language": "python",
   "name": "python3"
  },
  "language_info": {
   "codemirror_mode": {
    "name": "ipython",
    "version": 3
   },
   "file_extension": ".py",
   "mimetype": "text/x-python",
   "name": "python",
   "nbconvert_exporter": "python",
   "pygments_lexer": "ipython3",
   "version": "3.10.11"
  }
 },
 "nbformat": 4,
 "nbformat_minor": 5
}
