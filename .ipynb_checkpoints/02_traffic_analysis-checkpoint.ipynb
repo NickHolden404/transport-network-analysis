{
 "cells": [
  {
   "cell_type": "markdown",
   "id": "4cbfedf6-b48b-41ee-abbf-8117d68807d5",
   "metadata": {},
   "source": [
    "# Traffic Analysis\n",
    "In this notebook, we perform basic traffic and network analysis on the Vietnam road graph.\n"
   ]
  },
  {
   "cell_type": "code",
   "execution_count": 4,
   "id": "e1bf04d0-5afc-48d8-b8e0-5234cb6ebf75",
   "metadata": {},
   "outputs": [],
   "source": [
    "# Imports\n",
    "import osmnx as ox\n",
    "import networkx as nx\n",
    "import pickle"
   ]
  },
  {
   "cell_type": "code",
   "execution_count": 6,
   "id": "a95a2bff-6ec7-4146-8b0f-8e4891f24f30",
   "metadata": {},
   "outputs": [],
   "source": [
    "# Download directed graph for Hanoi\n",
    "place_name = \"Hanoi, Vietnam\"\n",
    "G = ox.graph_from_place(place_name, network_type=\"drive\")"
   ]
  },
  {
   "cell_type": "code",
   "execution_count": 7,
   "id": "25465d21-ae1d-4673-bac5-f3d4719e9df2",
   "metadata": {},
   "outputs": [
    {
     "name": "stdout",
     "output_type": "stream",
     "text": [
      "Directed road graph: 162634 nodes, 399630 edges\n"
     ]
    }
   ],
   "source": [
    "# Display graph summary\n",
    "print(f\"Directed road graph: {len(G.nodes())} nodes, {len(G.edges())} edges\")"
   ]
  },
  {
   "cell_type": "code",
   "execution_count": 8,
   "id": "3dbf7a15-c46e-47cd-985a-2f80d1489798",
   "metadata": {},
   "outputs": [
    {
     "name": "stdout",
     "output_type": "stream",
     "text": [
      "Graph saved as hanoi_directed_graph.pkl\n"
     ]
    }
   ],
   "source": [
    "# Cell 4: Save graph to pickle\n",
    "with open(\"hanoi_directed_graph.pkl\", \"wb\") as f:\n",
    "    pickle.dump(G, f)\n",
    "print(\"Graph saved as hanoi_directed_graph.pkl\")"
   ]
  },
  {
   "cell_type": "code",
   "execution_count": null,
   "id": "44e86c2f-4cb2-415e-8d90-efcd1b1ab1a8",
   "metadata": {},
   "outputs": [],
   "source": []
  }
 ],
 "metadata": {
  "kernelspec": {
   "display_name": "Python 3 (ipykernel)",
   "language": "python",
   "name": "python3"
  },
  "language_info": {
   "codemirror_mode": {
    "name": "ipython",
    "version": 3
   },
   "file_extension": ".py",
   "mimetype": "text/x-python",
   "name": "python",
   "nbconvert_exporter": "python",
   "pygments_lexer": "ipython3",
   "version": "3.10.11"
  }
 },
 "nbformat": 4,
 "nbformat_minor": 5
}
