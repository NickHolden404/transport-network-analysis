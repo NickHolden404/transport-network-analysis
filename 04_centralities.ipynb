{
 "cells": [
  {
   "cell_type": "code",
   "execution_count": 1,
   "id": "d1d5ab68-da28-45c9-bdd7-6d1e41ac4099",
   "metadata": {},
   "outputs": [],
   "source": [
    "# Imports\n",
    "import pickle\n",
    "import pandas as pd\n",
    "import networkx as nx\n",
    "import community as community_louvain\n",
    "import os\n",
    "\n",
    "os.makedirs(\"output\", exist_ok=True)"
   ]
  },
  {
   "cell_type": "code",
   "execution_count": 2,
   "id": "823a41b6-ba2a-45b5-a3d3-d7a81f5c7386",
   "metadata": {},
   "outputs": [
    {
     "name": "stdout",
     "output_type": "stream",
     "text": [
      "Largest WCC: 162634 nodes, 399630 edges\n"
     ]
    }
   ],
   "source": [
    "# --- Load the saved graph ---\n",
    "with open(\"road_graph.pkl\", \"rb\") as f:\n",
    "    G_main = pickle.load(f)\n",
    "\n",
    "# --- Largest weakly connected component ---\n",
    "largest_cc = max(nx.weakly_connected_components(G_main), key=len)\n",
    "G_largest = G_main.subgraph(largest_cc).copy()\n",
    "\n",
    "print(f\"Largest WCC: {len(G_largest.nodes())} nodes, {len(G_largest.edges())} edges\")"
   ]
  },
  {
   "cell_type": "code",
   "execution_count": 3,
   "id": "021ad4ba-e503-4b3c-a2cf-6d3134a99395",
   "metadata": {},
   "outputs": [
    {
     "name": "stdout",
     "output_type": "stream",
     "text": [
      "Top 10 Hubs:\n",
      "4466994312 0.08456\n",
      "3435239188 0.08388\n",
      "3435245119 0.08388\n",
      "3435245097 0.08249\n",
      "4466994311 0.08249\n",
      "3435239187 0.07912\n",
      "4466994306 0.07912\n",
      "3435245112 0.07705\n",
      "3435245121 0.07705\n",
      "3435245106 0.07368\n",
      "\n",
      "Top 10 Authorities:\n",
      "4466994312 0.08456\n",
      "3435245119 0.08388\n",
      "3435239188 0.08388\n",
      "3435245097 0.08249\n",
      "4466994311 0.08249\n",
      "3435239187 0.07912\n",
      "4466994306 0.07912\n",
      "3435245112 0.07705\n",
      "3435245121 0.07705\n",
      "3435245106 0.07368\n"
     ]
    }
   ],
   "source": [
    "# --- HITS (Hubs & Authorities) ---\n",
    "hubs, authorities = nx.hits(G_largest, max_iter=500)\n",
    "\n",
    "pd.DataFrame(hubs.items(), columns=[\"node\", \"hub_score\"]).to_csv(\"output/hubs.csv\", index=False)\n",
    "pd.DataFrame(authorities.items(), columns=[\"node\", \"authority_score\"]).to_csv(\"output/authorities.csv\", index=False)\n",
    "\n",
    "top_hubs = sorted(hubs.items(), key=lambda x: x[1], reverse=True)[:10]\n",
    "top_auth = sorted(authorities.items(), key=lambda x: x[1], reverse=True)[:10]\n",
    "\n",
    "print(\"Top 10 Hubs:\")\n",
    "for n, s in top_hubs: print(n, round(s, 5))\n",
    "print(\"\\nTop 10 Authorities:\")\n",
    "for n, s in top_auth: print(n, round(s, 5))"
   ]
  },
  {
   "cell_type": "code",
   "execution_count": 4,
   "id": "a8b66e4c-a40b-4631-b322-8dd98bf3191a",
   "metadata": {},
   "outputs": [
    {
     "name": "stdout",
     "output_type": "stream",
     "text": [
      "\n",
      "✅ HITS + Communities exported to /output/\n"
     ]
    }
   ],
   "source": [
    "# --- Louvain Community Detection ---\n",
    "partition = community_louvain.best_partition(G_largest.to_undirected())\n",
    "pd.DataFrame(partition.items(), columns=[\"node\", \"community\"]).to_csv(\"output/communities.csv\", index=False)\n",
    "\n",
    "print(\"\\n✅ HITS + Communities exported to /output/\")"
   ]
  },
  {
   "cell_type": "code",
   "execution_count": null,
   "id": "36998695-bdca-4a8f-9b6b-d040b9b6949b",
   "metadata": {},
   "outputs": [],
   "source": []
  }
 ],
 "metadata": {
  "kernelspec": {
   "display_name": "Python 3 (ipykernel)",
   "language": "python",
   "name": "python3"
  },
  "language_info": {
   "codemirror_mode": {
    "name": "ipython",
    "version": 3
   },
   "file_extension": ".py",
   "mimetype": "text/x-python",
   "name": "python",
   "nbconvert_exporter": "python",
   "pygments_lexer": "ipython3",
   "version": "3.10.11"
  }
 },
 "nbformat": 4,
 "nbformat_minor": 5
}
