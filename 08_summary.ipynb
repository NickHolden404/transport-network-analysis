{
 "cells": [
  {
   "cell_type": "code",
   "execution_count": 33,
   "id": "5ee699b2-4ae4-4bc5-9d1d-a3c467a6891d",
   "metadata": {},
   "outputs": [],
   "source": [
    "# Transportation Network Analysis Report\n",
    "# Imports and setup\n",
    "import pandas as pd\n",
    "import matplotlib.pyplot as plt\n",
    "import os\n",
    "from fpdf import FPDF, XPos, YPos\n",
    "from fpdf.enums import XPos, YPos\n",
    "\n",
    "# Ensure output directory exists\n",
    "os.makedirs(\"output\", exist_ok=True)\n",
    "\n",
    "# PDF setup\n",
    "pdf = FPDF()\n",
    "pdf.add_page()\n",
    "pdf.set_auto_page_break(auto=True, margin=15)"
   ]
  },
  {
   "cell_type": "code",
   "execution_count": 34,
   "id": "af89ee85-57cb-4db9-b62f-daac37e59681",
   "metadata": {},
   "outputs": [],
   "source": [
    "# === REGISTER UNICODE FONT ===\n",
    "font_path = \"/System/Library/Fonts/Supplemental/Times New Roman.ttf\"\n",
    "pdf.add_font(\"TimesNR\", \"\", font_path)\n",
    "pdf.add_font(\"TimesNR\", \"B\", font_path)"
   ]
  },
  {
   "cell_type": "code",
   "execution_count": 35,
   "id": "00c4e7f2-a3d1-4df0-957c-8dd244c36486",
   "metadata": {},
   "outputs": [],
   "source": [
    "# === TITLE PAGE ===\n",
    "pdf.set_font(\"TimesNR\", 'B', 18)\n",
    "pdf.cell(0, 10, \"Transportation Network Analysis Report\", align=\"C\",\n",
    "         new_x=XPos.LMARGIN, new_y=YPos.NEXT)\n",
    "pdf.ln(10)"
   ]
  },
  {
   "cell_type": "code",
   "execution_count": 36,
   "id": "2e00d221-0bf1-4985-b9bd-b1444312de93",
   "metadata": {},
   "outputs": [],
   "source": [
    "# === 1. Introduction ===\n",
    "pdf.set_font(\"TimesNR\", 'B', 14)\n",
    "pdf.cell(0, 10, \"1. Introduction\", new_x=XPos.LMARGIN, new_y=YPos.NEXT)\n",
    "pdf.set_font(\"TimesNR\", '', 12)\n",
    "pdf.multi_cell(0, 8,\n",
    "    \"This report presents the results of the transportation network analysis. \"\n",
    "    \"The analysis identifies critical intersections, routes, and hubs within \"\n",
    "    \"a transport graph using network science metrics and visualizations.\"\n",
    ")\n",
    "pdf.ln(5)"
   ]
  },
  {
   "cell_type": "code",
   "execution_count": 37,
   "id": "5c34c1ac-04f6-4c3e-9870-7af3e8f456f8",
   "metadata": {},
   "outputs": [],
   "source": [
    "# === 2. Data Preparation ===\n",
    "pdf.set_font(\"TimesNR\", 'B', 14)\n",
    "pdf.cell(0, 10, \"2. Data Preparation\", new_x=XPos.LMARGIN, new_y=YPos.NEXT)\n",
    "pdf.set_font(\"TimesNR\", '', 12)\n",
    "pdf.multi_cell(0, 8,\n",
    "    \"We modeled a transportation system as a directed graph where nodes represent \"\n",
    "    \"intersections or stations and edges represent routes or connections. \"\n",
    "    \"Key objectives included computing centrality measures to identify high-traffic nodes, \"\n",
    "    \"analyzing connectivity, and visualizing structural patterns in the network.\"\n",
    ")\n",
    "pdf.ln(5)"
   ]
  },
  {
   "cell_type": "code",
   "execution_count": 38,
   "id": "8b0555a2-1315-4029-919b-834af3b4e5ef",
   "metadata": {},
   "outputs": [],
   "source": [
    "# === 3. Centrality Analysis ===\n",
    "pdf.set_font(\"TimesNR\", 'B', 14)\n",
    "pdf.cell(0, 10, \"3. Centrality Analysis\", new_x=XPos.LMARGIN, new_y=YPos.NEXT)\n",
    "pdf.set_font(\"TimesNR\", '', 12)\n",
    "pdf.multi_cell(0, 8,\n",
    "    \"To identify influential papers, several centrality measures were computed, including In-Degree, Out-Degree, \"\n",
    "    \"PageRank, Betweenness, Hub, and Authority scores.\"\n",
    ")\n",
    "pdf.ln(3)"
   ]
  },
  {
   "cell_type": "code",
   "execution_count": 39,
   "id": "04427826-a1a5-4dac-a389-2722c5aa6772",
   "metadata": {},
   "outputs": [],
   "source": [
    "# === 3.1 Centrality Visualizations ===\n",
    "pdf.set_font(\"TimesNR\", 'B', 14)\n",
    "pdf.cell(0, 10, \"3.1 Centrality Visualizations\", new_x=XPos.LMARGIN, new_y=YPos.NEXT)\n",
    "pdf.set_font(\"TimesNR\", '', 12)\n",
    "pdf.multi_cell(0, 8,\n",
    "    \"The figures below illustrate network properties, centrality distributions, and relationships \"\n",
    "    \"between metrics such as PageRank, betweenness, hub and authority scores.\"\n",
    ")\n",
    "pdf.ln(4)\n",
    "\n",
    "centrality_imgs = [\n",
    "    \"hist_in_degree.png\",\n",
    "    \"hist_out_degree.png\",\n",
    "    \"hist_pagerank.png\",\n",
    "    \"hist_betweenness.png\",\n",
    "    \"hist_hub_score.png\",\n",
    "    \"hist_authority_score.png\",\n",
    "    \"top10_in_degree.png\",\n",
    "    \"top10_out_degree.png\",\n",
    "    \"top10_pagerank.png\",\n",
    "    \"top10_betweenness.png\",\n",
    "    \"top10_hub_score.png\",\n",
    "    \"top10_authority_score.png\",\n",
    "]\n",
    "\n",
    "for img in centrality_imgs:\n",
    "    path = os.path.join(\"output\", img)\n",
    "    if os.path.exists(path):\n",
    "        if pdf.get_y() > 230:\n",
    "            pdf.add_page()\n",
    "        pdf.image(path, x=None, w=160)\n",
    "        pdf.ln(5)\n",
    "    else:\n",
    "        pdf.cell(0, 8, f\"[Missing: {img}]\", new_x=XPos.LMARGIN, new_y=YPos.NEXT)\n",
    "pdf.ln(8)"
   ]
  },
  {
   "cell_type": "code",
   "execution_count": 40,
   "id": "a113c2db-8b19-4854-8405-971277fb02d9",
   "metadata": {},
   "outputs": [],
   "source": [
    "# --- In-Degree Table ---\n",
    "pdf.set_font(\"TimesNR\", 'B', 12)\n",
    "pdf.cell(0, 10, \"Top 5 by In-Degree:\", new_x=XPos.LMARGIN, new_y=YPos.NEXT)\n",
    "pdf.set_font(\"TimesNR\", '', 12)\n",
    "pdf.multi_cell(0, 6,\n",
    "    \"Node 8609853337.0: 0.000037\\n\"\n",
    "    \"Node 4813567397.0: 0.000037\\n\"\n",
    "    \"Node 7488855891.0: 0.000037\\n\"\n",
    "    \"Node 1905643476.0: 0.000037\\n\"\n",
    "    \"Node 8341138742.0: 0.000037\"\n",
    ")\n",
    "pdf.ln(5)"
   ]
  },
  {
   "cell_type": "code",
   "execution_count": 41,
   "id": "1b0793cd-6bd4-48c9-9ace-941ecdc995a9",
   "metadata": {},
   "outputs": [],
   "source": [
    "# --- PageRank Table ---\n",
    "pdf.set_font(\"TimesNR\", 'B', 12)\n",
    "pdf.cell(0, 10, \"Top 5 by PageRank:\", new_x=XPos.LMARGIN, new_y=YPos.NEXT)\n",
    "pdf.set_font(\"TimesNR\", '', 12)\n",
    "pdf.multi_cell(0, 6,\n",
    "    \"Node 7226570628.0: 0.000025\\n\"\n",
    "    \"Node 445252475.0: 0.000018\\n\"\n",
    "    \"Node 10183503218.0: 0.000017\\n\"\n",
    "    \"Node 12116337047.0: 0.000017\\n\"\n",
    "    \"Node 8332773638.0: 0.000016\"\n",
    ")\n",
    "pdf.ln(5)\n",
    "\n",
    "pdf.multi_cell(0, 8,\n",
    "    \"These results highlight the intersections that serve as major hubs in the transportation network. \"\n",
    "    \"Nodes with higher PageRank values are more likely to receive or distribute traffic efficiently, \"\n",
    "    \"indicating their strategic importance in maintaining overall network connectivity.\"\n",
    ")\n",
    "pdf.ln(5)"
   ]
  },
  {
   "cell_type": "code",
   "execution_count": 42,
   "id": "2b3c83cd-6a76-4c8a-8b03-81ec2cccca55",
   "metadata": {},
   "outputs": [],
   "source": [
    "# === 4. Community Detection ===\n",
    "community_candidates = [\n",
    "    \"output/community_graph.png\",\n",
    "]\n",
    "community_img = next((p for p in community_candidates if os.path.exists(p)), None)\n",
    "\n",
    "pdf.set_font(\"TimesNR\", 'B', 14)\n",
    "pdf.cell(0, 10, \"4. Community Detection\", new_x=XPos.LMARGIN, new_y=YPos.NEXT)\n",
    "pdf.set_font(\"TimesNR\", '', 12)\n",
    "pdf.multi_cell(0, 8,\n",
    "    \"The Louvain algorithm was applied to the undirected version of the transportation graph to detect communities. \"\n",
    "    \"Each community represents a cluster of intersections that are more densely connected to each other than to the rest of the network.\"\n",
    ")\n",
    "pdf.ln(5)\n",
    "\n",
    "if community_img:\n",
    "    if pdf.get_y() > 230:\n",
    "        pdf.add_page()\n",
    "    pdf.image(community_img, w=170)\n",
    "    pdf.ln(8)\n",
    "else:\n",
    "    pdf.cell(0, 8, \"[Community visualization missing — run the community detection plot cell]\", new_x=XPos.LMARGIN, new_y=YPos.NEXT)\n",
    "pdf.ln(5)"
   ]
  },
  {
   "cell_type": "code",
   "execution_count": 43,
   "id": "d1a378c4-6ebc-4298-9f23-343ab4acb838",
   "metadata": {},
   "outputs": [],
   "source": [
    "# === 5. Network Visualization ===\n",
    "pdf.set_font(\"TimesNR\", 'B', 14)\n",
    "pdf.cell(0, 10, \"5. Network Visualization\", new_x=XPos.LMARGIN, new_y=YPos.NEXT)\n",
    "pdf.set_font(\"TimesNR\", '', 12)\n",
    "pdf.multi_cell(0, 8,\n",
    "    \"The largest weakly connected component was visualized using a spring layout. \"\n",
    "    \"Nodes with higher centrality appear more central and communities are visible as clusters of color.\"\n",
    ")\n",
    "pdf.ln(4)\n",
    "\n",
    "network_img = \"output/network_graph.png\"\n",
    "if os.path.exists(network_img):\n",
    "    if pdf.get_y() > 230:\n",
    "        pdf.add_page()\n",
    "    pdf.image(network_img, x=None, w=170)\n",
    "    pdf.ln(8)\n",
    "else:\n",
    "    pdf.cell(0, 8, \"[Network visualization missing]\", new_x=XPos.LMARGIN, new_y=YPos.NEXT)\n",
    "pdf.ln(5)"
   ]
  },
  {
   "cell_type": "code",
   "execution_count": 44,
   "id": "caff99c9-e512-4180-8048-af395c476a65",
   "metadata": {},
   "outputs": [],
   "source": [
    "# === 6. Correlation Analysis ===\n",
    "pdf.set_font(\"TimesNR\", 'B', 14)\n",
    "pdf.cell(0, 10, \"6. Correlation Analysis\", new_x=XPos.LMARGIN, new_y=YPos.NEXT)\n",
    "pdf.set_font(\"TimesNR\", '', 12)\n",
    "pdf.multi_cell(0, 8,\n",
    "    \"Scatterplots and heatmaps were used to explore relationships between centrality measures. \"\n",
    "    \"These visualizations reveal how different metrics highlight key intersections that influence overall traffic flow or connectivity in the network.\"\n",
    ")\n",
    "pdf.ln(4)\n",
    "\n",
    "correlation_imgs = [\n",
    "    \"correlation_heatmap.png\",\n",
    "    \"scatter_in_degree_vs_pagerank.png\",\n",
    "    \"scatter_out_degree_vs_pagerank.png\",\n",
    "    \"scatter_betweenness_vs_hub_score.png\",\n",
    "    \"scatter_betweenness_vs_authority_score.png\",\n",
    "]\n",
    "\n",
    "for img in correlation_imgs:\n",
    "    path = os.path.join(\"output\", img)\n",
    "    if os.path.exists(path):\n",
    "        if pdf.get_y() > 230:\n",
    "            pdf.add_page()\n",
    "        pdf.image(path, x=None, w=170)\n",
    "        pdf.ln(6)\n",
    "    else:\n",
    "        pdf.cell(0, 8, f\"[Missing: {img}]\", new_x=XPos.LMARGIN, new_y=YPos.NEXT)\n",
    "pdf.ln(5)"
   ]
  },
  {
   "cell_type": "code",
   "execution_count": 45,
   "id": "732b725b-fcac-4afe-bba2-8b91617780e0",
   "metadata": {},
   "outputs": [],
   "source": [
    "# === 7. Summary & Insights ===\n",
    "pdf.set_font(\"TimesNR\", 'B', 14)\n",
    "pdf.cell(0, 10, \"7. Summary & Insights\", new_x=XPos.LMARGIN, new_y=YPos.NEXT)\n",
    "pdf.set_font(\"TimesNR\", '', 12)\n",
    "pdf.multi_cell(0, 8,\n",
    "    \"The transportation network analysis reveals key insights into system efficiency and structure. \"\n",
    "    \"Nodes with high betweenness centrality often act as critical transfer points or potential bottlenecks. \"\n",
    "    \"High hub and authority scores indicate well-connected intersections, suggesting optimal areas for \"\n",
    "    \"expanding capacity or rerouting flow. These results provide a data-driven foundation for future \"\n",
    "    \"transport planning and optimization.\"\n",
    ")\n",
    "pdf.ln(5)"
   ]
  },
  {
   "cell_type": "code",
   "execution_count": 46,
   "id": "fa8fdd73-7c6d-4d6b-ab93-e326ccf2e951",
   "metadata": {},
   "outputs": [
    {
     "data": {
      "text/plain": [
       "False"
      ]
     },
     "execution_count": 46,
     "metadata": {},
     "output_type": "execute_result"
    }
   ],
   "source": [
    "# === 8. References ===\n",
    "pdf.set_font(\"TimesNR\", 'B', 14)\n",
    "pdf.cell(0, 10, \"8. References\", new_x=XPos.LMARGIN, new_y=YPos.NEXT)\n",
    "pdf.set_font(\"TimesNR\", '', 12)\n",
    "pdf.multi_cell(0, 6,\n",
    "    \"- NetworkX Documentation: https://networkx.org/documentation/stable/\\n\"\n",
    "    \"- Louvain Method: Blondel, V.D. et al. (2008). Fast unfolding of communities in large networks.\\n\"\n",
    ")"
   ]
  },
  {
   "cell_type": "code",
   "execution_count": 47,
   "id": "312d4331-5e13-40d5-b858-43b4deb47fc0",
   "metadata": {},
   "outputs": [
    {
     "name": "stdout",
     "output_type": "stream",
     "text": [
      "✅ PDF successfully generated with Unicode Times New Roman (no warnings, no encoding issues).\n"
     ]
    }
   ],
   "source": [
    "# === EXPORT PDF ===\n",
    "pdf.output(\"Hanoi_Transportation_Network_Report.pdf\")\n",
    "print(\"✅ PDF successfully generated with Unicode Times New Roman (no warnings, no encoding issues).\")"
   ]
  },
  {
   "cell_type": "code",
   "execution_count": null,
   "id": "f7ee2a3e-b8f9-4dfb-9f8b-049edc692f98",
   "metadata": {},
   "outputs": [],
   "source": []
  }
 ],
 "metadata": {
  "kernelspec": {
   "display_name": "Python 3 (ipykernel)",
   "language": "python",
   "name": "python3"
  },
  "language_info": {
   "codemirror_mode": {
    "name": "ipython",
    "version": 3
   },
   "file_extension": ".py",
   "mimetype": "text/x-python",
   "name": "python",
   "nbconvert_exporter": "python",
   "pygments_lexer": "ipython3",
   "version": "3.10.11"
  }
 },
 "nbformat": 4,
 "nbformat_minor": 5
}
